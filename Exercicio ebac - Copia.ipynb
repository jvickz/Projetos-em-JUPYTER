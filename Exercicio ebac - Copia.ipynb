{
 "cells": [
  {
   "cell_type": "markdown",
   "id": "09a793ca",
   "metadata": {},
   "source": [
    "# MÓDULO 14 - PRÁTICA: PRÉ-PROCESSAMENTO DE DADOS - TELECOM"
   ]
  },
  {
   "cell_type": "markdown",
   "id": "ebebb633",
   "metadata": {},
   "source": [
    "## Questão 1: Verifique e ajuste os tipos de dados"
   ]
  },
  {
   "cell_type": "code",
   "execution_count": null,
   "id": "311d7625",
   "metadata": {},
   "outputs": [
    {
     "data": {
      "text/plain": [
       "customerID             object\n",
       "Genero                 object\n",
       "Idoso                   int64\n",
       "Casado                 object\n",
       "Dependents             object\n",
       "Tempo_como_Cliente      int64\n",
       "PhoneService           object\n",
       "Servico_Internet       object\n",
       "Servico_Seguranca      object\n",
       "Suporte_Tecnico        object\n",
       "StreamingTV            object\n",
       "Tipo_Contrato          object\n",
       "PaymentMethod          object\n",
       "Pagamento_Mensal      float64\n",
       "Total_Pago            float64\n",
       "Churn                  object\n",
       "dtype: object"
      ]
     },
     "execution_count": 6,
     "metadata": {},
     "output_type": "execute_result"
    }
   ],
   "source": [
    "\n",
    "import pandas as pd\n",
    "\n",
    "# Carregando o CSV\n",
    "df = pd.read_csv(\"CHURN_TELECON_MOD08_TAREFA.csv\", sep=';')\n",
    "\n",
    "# Ajustando tipos\n",
    "df['Pagamento_Mensal'] = pd.to_numeric(df['Pagamento_Mensal'], errors='coerce')\n",
    "df['Total_Pago'] = pd.to_numeric(df['Total_Pago'], errors='coerce')\n",
    "df['Tempo_como_Cliente'] = pd.to_numeric(df['Tempo_como_Cliente'], errors='coerce')\n",
    "df['Idoso'] = df['Idoso'].astype('int64')\n",
    "\n",
    "df.dtypes\n"
   ]
  },
  {
   "cell_type": "markdown",
   "id": "00a1e567",
   "metadata": {},
   "source": [
    "## Questão 2-A: Verifique valores ausentes e percentual por coluna"
   ]
  },
  {
   "cell_type": "code",
   "execution_count": 7,
   "id": "8fd32708",
   "metadata": {},
   "outputs": [
    {
     "data": {
      "text/html": [
       "<div>\n",
       "<style scoped>\n",
       "    .dataframe tbody tr th:only-of-type {\n",
       "        vertical-align: middle;\n",
       "    }\n",
       "\n",
       "    .dataframe tbody tr th {\n",
       "        vertical-align: top;\n",
       "    }\n",
       "\n",
       "    .dataframe thead th {\n",
       "        text-align: right;\n",
       "    }\n",
       "</style>\n",
       "<table border=\"1\" class=\"dataframe\">\n",
       "  <thead>\n",
       "    <tr style=\"text-align: right;\">\n",
       "      <th></th>\n",
       "      <th>Total Nulos</th>\n",
       "      <th>% Nulos</th>\n",
       "    </tr>\n",
       "  </thead>\n",
       "  <tbody>\n",
       "    <tr>\n",
       "      <th>customerID</th>\n",
       "      <td>0</td>\n",
       "      <td>0.00</td>\n",
       "    </tr>\n",
       "    <tr>\n",
       "      <th>Genero</th>\n",
       "      <td>12</td>\n",
       "      <td>0.48</td>\n",
       "    </tr>\n",
       "    <tr>\n",
       "      <th>Idoso</th>\n",
       "      <td>0</td>\n",
       "      <td>0.00</td>\n",
       "    </tr>\n",
       "    <tr>\n",
       "      <th>Casado</th>\n",
       "      <td>0</td>\n",
       "      <td>0.00</td>\n",
       "    </tr>\n",
       "    <tr>\n",
       "      <th>Dependents</th>\n",
       "      <td>0</td>\n",
       "      <td>0.00</td>\n",
       "    </tr>\n",
       "    <tr>\n",
       "      <th>Tempo_como_Cliente</th>\n",
       "      <td>0</td>\n",
       "      <td>0.00</td>\n",
       "    </tr>\n",
       "    <tr>\n",
       "      <th>PhoneService</th>\n",
       "      <td>1482</td>\n",
       "      <td>59.28</td>\n",
       "    </tr>\n",
       "    <tr>\n",
       "      <th>Servico_Internet</th>\n",
       "      <td>0</td>\n",
       "      <td>0.00</td>\n",
       "    </tr>\n",
       "    <tr>\n",
       "      <th>Servico_Seguranca</th>\n",
       "      <td>0</td>\n",
       "      <td>0.00</td>\n",
       "    </tr>\n",
       "    <tr>\n",
       "      <th>Suporte_Tecnico</th>\n",
       "      <td>0</td>\n",
       "      <td>0.00</td>\n",
       "    </tr>\n",
       "    <tr>\n",
       "      <th>StreamingTV</th>\n",
       "      <td>0</td>\n",
       "      <td>0.00</td>\n",
       "    </tr>\n",
       "    <tr>\n",
       "      <th>Tipo_Contrato</th>\n",
       "      <td>0</td>\n",
       "      <td>0.00</td>\n",
       "    </tr>\n",
       "    <tr>\n",
       "      <th>PaymentMethod</th>\n",
       "      <td>0</td>\n",
       "      <td>0.00</td>\n",
       "    </tr>\n",
       "    <tr>\n",
       "      <th>Pagamento_Mensal</th>\n",
       "      <td>325</td>\n",
       "      <td>13.00</td>\n",
       "    </tr>\n",
       "    <tr>\n",
       "      <th>Total_Pago</th>\n",
       "      <td>0</td>\n",
       "      <td>0.00</td>\n",
       "    </tr>\n",
       "    <tr>\n",
       "      <th>Churn</th>\n",
       "      <td>5</td>\n",
       "      <td>0.20</td>\n",
       "    </tr>\n",
       "  </tbody>\n",
       "</table>\n",
       "</div>"
      ],
      "text/plain": [
       "                    Total Nulos  % Nulos\n",
       "customerID                    0     0.00\n",
       "Genero                       12     0.48\n",
       "Idoso                         0     0.00\n",
       "Casado                        0     0.00\n",
       "Dependents                    0     0.00\n",
       "Tempo_como_Cliente            0     0.00\n",
       "PhoneService               1482    59.28\n",
       "Servico_Internet              0     0.00\n",
       "Servico_Seguranca             0     0.00\n",
       "Suporte_Tecnico               0     0.00\n",
       "StreamingTV                   0     0.00\n",
       "Tipo_Contrato                 0     0.00\n",
       "PaymentMethod                 0     0.00\n",
       "Pagamento_Mensal            325    13.00\n",
       "Total_Pago                    0     0.00\n",
       "Churn                         5     0.20"
      ]
     },
     "execution_count": 7,
     "metadata": {},
     "output_type": "execute_result"
    }
   ],
   "source": [
    "\n",
    "# Verificando nulos\n",
    "faltantes = df.isnull().sum()\n",
    "percentual = (faltantes / len(df)) * 100\n",
    "pd.DataFrame({'Total Nulos': faltantes, '% Nulos': percentual.round(2)})\n"
   ]
  },
  {
   "cell_type": "markdown",
   "id": "1f9292df",
   "metadata": {},
   "source": [
    "## Questão 2-B: Exclusão de valores nulos quando justificável"
   ]
  },
  {
   "cell_type": "code",
   "execution_count": 8,
   "id": "85a0f88c",
   "metadata": {},
   "outputs": [
    {
     "data": {
      "text/plain": [
       "customerID               0\n",
       "Genero                   0\n",
       "Idoso                    0\n",
       "Casado                   0\n",
       "Dependents               0\n",
       "Tempo_como_Cliente       0\n",
       "PhoneService          1482\n",
       "Servico_Internet         0\n",
       "Servico_Seguranca        0\n",
       "Suporte_Tecnico          0\n",
       "StreamingTV              0\n",
       "Tipo_Contrato            0\n",
       "PaymentMethod            0\n",
       "Pagamento_Mensal       313\n",
       "Total_Pago               0\n",
       "Churn                    0\n",
       "dtype: int64"
      ]
     },
     "execution_count": 8,
     "metadata": {},
     "output_type": "execute_result"
    }
   ],
   "source": [
    "\n",
    "df = df[df['Genero'].notnull()]\n",
    "df = df[df['Churn'].notnull()]\n",
    "df.isnull().sum()\n"
   ]
  },
  {
   "cell_type": "markdown",
   "id": "8e5e06ab",
   "metadata": {},
   "source": [
    "## Questão 2-C: Preenchimento de nulos com mediana ou moda"
   ]
  },
  {
   "cell_type": "code",
   "execution_count": 2,
   "id": "3156dfa5",
   "metadata": {},
   "outputs": [
    {
     "ename": "NameError",
     "evalue": "name 'df' is not defined",
     "output_type": "error",
     "traceback": [
      "\u001b[1;31m---------------------------------------------------------------------------\u001b[0m",
      "\u001b[1;31mNameError\u001b[0m                                 Traceback (most recent call last)",
      "Cell \u001b[1;32mIn[2], line 2\u001b[0m\n\u001b[0;32m      1\u001b[0m \u001b[38;5;66;03m#substituindo os valores nulos\u001b[39;00m\n\u001b[1;32m----> 2\u001b[0m df[\u001b[38;5;124m'\u001b[39m\u001b[38;5;124mPagamento_Mensal\u001b[39m\u001b[38;5;124m'\u001b[39m] \u001b[38;5;241m=\u001b[39m df[\u001b[38;5;124m'\u001b[39m\u001b[38;5;124mPagamento_Mensal\u001b[39m\u001b[38;5;124m'\u001b[39m]\u001b[38;5;241m.\u001b[39mfillna(df[\u001b[38;5;124m'\u001b[39m\u001b[38;5;124mPagamento_Mensal\u001b[39m\u001b[38;5;124m'\u001b[39m]\u001b[38;5;241m.\u001b[39mmedian())\n\u001b[0;32m      3\u001b[0m df[\u001b[38;5;124m'\u001b[39m\u001b[38;5;124mPhoneService\u001b[39m\u001b[38;5;124m'\u001b[39m] \u001b[38;5;241m=\u001b[39m df[\u001b[38;5;124m'\u001b[39m\u001b[38;5;124mPhoneService\u001b[39m\u001b[38;5;124m'\u001b[39m]\u001b[38;5;241m.\u001b[39mfillna(df[\u001b[38;5;124m'\u001b[39m\u001b[38;5;124mPhoneService\u001b[39m\u001b[38;5;124m'\u001b[39m]\u001b[38;5;241m.\u001b[39mmode()[\u001b[38;5;241m0\u001b[39m])\n\u001b[0;32m      6\u001b[0m df\u001b[38;5;241m.\u001b[39misnull()\u001b[38;5;241m.\u001b[39msum()\u001b[38;5;241m.\u001b[39msum()\n",
      "\u001b[1;31mNameError\u001b[0m: name 'df' is not defined"
     ]
    }
   ],
   "source": [
    "#substituindo os valores nulos\n",
    "df['Pagamento_Mensal'] = df['Pagamento_Mensal'].fillna(df['Pagamento_Mensal'].median())\n",
    "df['PhoneService'] = df['PhoneService'].fillna(df['PhoneService'].mode()[0])\n",
    "\n",
    "\n",
    "df.isnull().sum().sum()"
   ]
  },
  {
   "cell_type": "markdown",
   "id": "e65191bf",
   "metadata": {},
   "source": [
    "## Questão 3: Correção de inconsistências textuais"
   ]
  },
  {
   "cell_type": "code",
   "execution_count": 10,
   "id": "6d1985d3",
   "metadata": {},
   "outputs": [
    {
     "data": {
      "text/plain": [
       "array(['female', 'male'], dtype=object)"
      ]
     },
     "execution_count": 10,
     "metadata": {},
     "output_type": "execute_result"
    }
   ],
   "source": [
    "\n",
    "# Padronizando textos\n",
    "colunas_obj = df.select_dtypes(include='object').columns\n",
    "for col in colunas_obj:\n",
    "    df[col] = df[col].str.strip().str.lower()\n",
    "\n",
    "# Corrigindo genero\n",
    "df['Genero'] = df['Genero'].replace({'f': 'female', 'm': 'male'})\n",
    "df['Genero'].unique()\n"
   ]
  },
  {
   "cell_type": "markdown",
   "id": "4e51f8b8",
   "metadata": {},
   "source": [
    "## Questão 4 [Extra]: Renomeando colunas para padrão em português"
   ]
  },
  {
   "cell_type": "code",
   "execution_count": 6,
   "id": "d2eaa444",
   "metadata": {},
   "outputs": [
    {
     "data": {
      "text/plain": [
       "Index(['id_cliente', 'genero', 'idoso', 'casado', 'dependentes',\n",
       "       'tempo_como_cliente', 'servico_telefonico', 'servico_internet',\n",
       "       'servico_seguranca', 'suporte_tecnico', 'streaming_tv', 'tipo_contrato',\n",
       "       'forma_pagamento', 'pagamento_mensal', 'total_pago', 'cancelou'],\n",
       "      dtype='object')"
      ]
     },
     "execution_count": 6,
     "metadata": {},
     "output_type": "execute_result"
    }
   ],
   "source": [
    "\n",
    "df.rename(columns={\n",
    "    'customerID': 'id_cliente',\n",
    "    'Genero': 'genero',\n",
    "    'Idoso': 'idoso',\n",
    "    'Casado': 'casado',\n",
    "    'Dependents': 'dependentes',\n",
    "    'Tempo_como_Cliente': 'tempo_como_cliente',\n",
    "    'PhoneService': 'servico_telefonico',\n",
    "    'Servico_Internet': 'servico_internet',\n",
    "    'Servico_Seguranca': 'servico_seguranca',\n",
    "    'Suporte_Tecnico': 'suporte_tecnico',\n",
    "    'StreamingTV': 'streaming_tv',\n",
    "    'Tipo_Contrato': 'tipo_contrato',\n",
    "    'PaymentMethod': 'forma_pagamento',\n",
    "    'Pagamento_Mensal': 'pagamento_mensal',\n",
    "    'Total_Pago': 'total_pago',\n",
    "    'Churn': 'cancelou'\n",
    "}, inplace=True)\n",
    "\n",
    "df.columns\n"
   ]
  }
 ],
 "metadata": {
  "kernelspec": {
   "display_name": "base",
   "language": "python",
   "name": "python3"
  },
  "language_info": {
   "codemirror_mode": {
    "name": "ipython",
    "version": 3
   },
   "file_extension": ".py",
   "mimetype": "text/x-python",
   "name": "python",
   "nbconvert_exporter": "python",
   "pygments_lexer": "ipython3",
   "version": "3.12.7"
  }
 },
 "nbformat": 4,
 "nbformat_minor": 5
}
